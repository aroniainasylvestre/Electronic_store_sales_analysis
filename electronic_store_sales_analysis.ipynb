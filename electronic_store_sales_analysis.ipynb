{
 "cells": [
  {
   "cell_type": "markdown",
   "id": "68f1951f",
   "metadata": {},
   "source": [
    "# <font color=\"gray\"><center>Electronic Store Sales Analysis</center></font>"
   ]
  },
  {
   "cell_type": "markdown",
   "id": "9820bed3",
   "metadata": {},
   "source": [
    "### **Table of Contents**\n",
    "\n",
    "\n",
    "1.\t[Data Exploration](#1)\n",
    "2.\t[Data Cleaning](#2)\n",
    "    - [Handling missing values](#3)\n",
    "    - [Identifing Outliers](#4)\n",
    "    - [Data type Conversion](#5)\n",
    "    - [Remove Duplicates values](#6)\n",
    "1.\t[Data Analysis](#7)"
   ]
  },
  {
   "cell_type": "code",
   "execution_count": 2,
   "id": "e019b036",
   "metadata": {},
   "outputs": [],
   "source": [
    "# import libraries\n",
    "import numpy as np\n",
    "import pandas as pd\n",
    "import matplotlib.pyplot as plt\n",
    "import seaborn as sns\n",
    "import warnings\n",
    "import os\n",
    "\n",
    "warnings.filterwarnings(\"ignore\")"
   ]
  },
  {
   "cell_type": "markdown",
   "id": "bc3b9c01",
   "metadata": {},
   "source": [
    "Read data from CSV files"
   ]
  },
  {
   "cell_type": "code",
   "execution_count": 3,
   "id": "d1a1ab2b",
   "metadata": {},
   "outputs": [
    {
     "data": {
      "text/plain": [
       "['cleaned',\n",
       " 'Sales_April_2019.csv',\n",
       " 'Sales_August_2019.csv',\n",
       " 'Sales_December_2019.csv',\n",
       " 'Sales_February_2019.csv',\n",
       " 'Sales_January_2019.csv',\n",
       " 'Sales_July_2019.csv',\n",
       " 'Sales_June_2019.csv',\n",
       " 'Sales_March_2019.csv',\n",
       " 'Sales_May_2019.csv',\n",
       " 'Sales_November_2019.csv',\n",
       " 'Sales_October_2019.csv',\n",
       " 'Sales_September_2019.csv']"
      ]
     },
     "execution_count": 3,
     "metadata": {},
     "output_type": "execute_result"
    }
   ],
   "source": [
    "dataset = \"./data\"\n",
    "os.listdir(dataset)"
   ]
  },
  {
   "cell_type": "code",
   "execution_count": 7,
   "id": "1ed7044c",
   "metadata": {},
   "outputs": [],
   "source": [
    "files = os.listdir(dataset)"
   ]
  },
  {
   "cell_type": "code",
   "execution_count": 8,
   "id": "e57324bf",
   "metadata": {},
   "outputs": [],
   "source": [
    "# Merge data\n",
    "data = pd.DataFrame()\n",
    "\n",
    "for file in files:\n",
    "    temp = pd.read_csv(\"./data/\" + file)\n",
    "    data = pd.concat([data, temp])"
   ]
  },
  {
   "cell_type": "markdown",
   "id": "5371631c",
   "metadata": {},
   "source": [
    "## **1. Data Exploration** <a class=\"anchor\" id=\"1\"></a>"
   ]
  },
  {
   "cell_type": "code",
   "execution_count": 9,
   "id": "037ff642",
   "metadata": {},
   "outputs": [
    {
     "data": {
      "text/html": [
       "<div>\n",
       "<style scoped>\n",
       "    .dataframe tbody tr th:only-of-type {\n",
       "        vertical-align: middle;\n",
       "    }\n",
       "\n",
       "    .dataframe tbody tr th {\n",
       "        vertical-align: top;\n",
       "    }\n",
       "\n",
       "    .dataframe thead th {\n",
       "        text-align: right;\n",
       "    }\n",
       "</style>\n",
       "<table border=\"1\" class=\"dataframe\">\n",
       "  <thead>\n",
       "    <tr style=\"text-align: right;\">\n",
       "      <th></th>\n",
       "      <th>Order ID</th>\n",
       "      <th>Product</th>\n",
       "      <th>Quantity Ordered</th>\n",
       "      <th>Price Each</th>\n",
       "      <th>Order Date</th>\n",
       "      <th>Purchase Address</th>\n",
       "    </tr>\n",
       "  </thead>\n",
       "  <tbody>\n",
       "    <tr>\n",
       "      <th>0</th>\n",
       "      <td>176558</td>\n",
       "      <td>USB-C Charging Cable</td>\n",
       "      <td>2</td>\n",
       "      <td>11.95</td>\n",
       "      <td>04/19/19 08:46</td>\n",
       "      <td>917 1st St, Dallas, TX 75001</td>\n",
       "    </tr>\n",
       "    <tr>\n",
       "      <th>1</th>\n",
       "      <td>NaN</td>\n",
       "      <td>NaN</td>\n",
       "      <td>NaN</td>\n",
       "      <td>NaN</td>\n",
       "      <td>NaN</td>\n",
       "      <td>NaN</td>\n",
       "    </tr>\n",
       "    <tr>\n",
       "      <th>2</th>\n",
       "      <td>176559</td>\n",
       "      <td>Bose SoundSport Headphones</td>\n",
       "      <td>1</td>\n",
       "      <td>99.99</td>\n",
       "      <td>04/07/19 22:30</td>\n",
       "      <td>682 Chestnut St, Boston, MA 02215</td>\n",
       "    </tr>\n",
       "    <tr>\n",
       "      <th>3</th>\n",
       "      <td>176560</td>\n",
       "      <td>Google Phone</td>\n",
       "      <td>1</td>\n",
       "      <td>600</td>\n",
       "      <td>04/12/19 14:38</td>\n",
       "      <td>669 Spruce St, Los Angeles, CA 90001</td>\n",
       "    </tr>\n",
       "    <tr>\n",
       "      <th>4</th>\n",
       "      <td>176560</td>\n",
       "      <td>Wired Headphones</td>\n",
       "      <td>1</td>\n",
       "      <td>11.99</td>\n",
       "      <td>04/12/19 14:38</td>\n",
       "      <td>669 Spruce St, Los Angeles, CA 90001</td>\n",
       "    </tr>\n",
       "  </tbody>\n",
       "</table>\n",
       "</div>"
      ],
      "text/plain": [
       "  Order ID                     Product Quantity Ordered Price Each  \\\n",
       "0   176558        USB-C Charging Cable                2      11.95   \n",
       "1      NaN                         NaN              NaN        NaN   \n",
       "2   176559  Bose SoundSport Headphones                1      99.99   \n",
       "3   176560                Google Phone                1        600   \n",
       "4   176560            Wired Headphones                1      11.99   \n",
       "\n",
       "       Order Date                      Purchase Address  \n",
       "0  04/19/19 08:46          917 1st St, Dallas, TX 75001  \n",
       "1             NaN                                   NaN  \n",
       "2  04/07/19 22:30     682 Chestnut St, Boston, MA 02215  \n",
       "3  04/12/19 14:38  669 Spruce St, Los Angeles, CA 90001  \n",
       "4  04/12/19 14:38  669 Spruce St, Los Angeles, CA 90001  "
      ]
     },
     "execution_count": 9,
     "metadata": {},
     "output_type": "execute_result"
    }
   ],
   "source": [
    "# Preview the dataset\n",
    "data.head()"
   ]
  },
  {
   "cell_type": "code",
   "execution_count": 10,
   "id": "a3676201",
   "metadata": {},
   "outputs": [
    {
     "data": {
      "text/plain": [
       "(186850, 6)"
      ]
     },
     "execution_count": 10,
     "metadata": {},
     "output_type": "execute_result"
    }
   ],
   "source": [
    "# View the shape of data\n",
    "data.shape"
   ]
  },
  {
   "cell_type": "code",
   "execution_count": 11,
   "id": "820ee54f",
   "metadata": {},
   "outputs": [
    {
     "data": {
      "text/plain": [
       "Index(['Order ID', 'Product', 'Quantity Ordered', 'Price Each', 'Order Date',\n",
       "       'Purchase Address'],\n",
       "      dtype='object')"
      ]
     },
     "execution_count": 11,
     "metadata": {},
     "output_type": "execute_result"
    }
   ],
   "source": [
    "# columns\n",
    "data.columns"
   ]
  },
  {
   "cell_type": "code",
   "execution_count": 12,
   "id": "32ce1ccb",
   "metadata": {
    "scrolled": true
   },
   "outputs": [
    {
     "name": "stdout",
     "output_type": "stream",
     "text": [
      "<class 'pandas.core.frame.DataFrame'>\n",
      "Int64Index: 186850 entries, 0 to 11685\n",
      "Data columns (total 6 columns):\n",
      " #   Column            Non-Null Count   Dtype \n",
      "---  ------            --------------   ----- \n",
      " 0   Order ID          186305 non-null  object\n",
      " 1   Product           186305 non-null  object\n",
      " 2   Quantity Ordered  186305 non-null  object\n",
      " 3   Price Each        186305 non-null  object\n",
      " 4   Order Date        186305 non-null  object\n",
      " 5   Purchase Address  186305 non-null  object\n",
      "dtypes: object(6)\n",
      "memory usage: 10.0+ MB\n"
     ]
    }
   ],
   "source": [
    "# View summary of dataset\n",
    "data.info()"
   ]
  },
  {
   "cell_type": "code",
   "execution_count": 13,
   "id": "012ce4e9",
   "metadata": {
    "scrolled": true
   },
   "outputs": [
    {
     "data": {
      "text/html": [
       "<div>\n",
       "<style scoped>\n",
       "    .dataframe tbody tr th:only-of-type {\n",
       "        vertical-align: middle;\n",
       "    }\n",
       "\n",
       "    .dataframe tbody tr th {\n",
       "        vertical-align: top;\n",
       "    }\n",
       "\n",
       "    .dataframe thead th {\n",
       "        text-align: right;\n",
       "    }\n",
       "</style>\n",
       "<table border=\"1\" class=\"dataframe\">\n",
       "  <thead>\n",
       "    <tr style=\"text-align: right;\">\n",
       "      <th></th>\n",
       "      <th>Order ID</th>\n",
       "      <th>Product</th>\n",
       "      <th>Quantity Ordered</th>\n",
       "      <th>Price Each</th>\n",
       "      <th>Order Date</th>\n",
       "      <th>Purchase Address</th>\n",
       "    </tr>\n",
       "  </thead>\n",
       "  <tbody>\n",
       "    <tr>\n",
       "      <th>count</th>\n",
       "      <td>186305</td>\n",
       "      <td>186305</td>\n",
       "      <td>186305</td>\n",
       "      <td>186305</td>\n",
       "      <td>186305</td>\n",
       "      <td>186305</td>\n",
       "    </tr>\n",
       "    <tr>\n",
       "      <th>unique</th>\n",
       "      <td>178438</td>\n",
       "      <td>20</td>\n",
       "      <td>10</td>\n",
       "      <td>24</td>\n",
       "      <td>142396</td>\n",
       "      <td>140788</td>\n",
       "    </tr>\n",
       "    <tr>\n",
       "      <th>top</th>\n",
       "      <td>Order ID</td>\n",
       "      <td>USB-C Charging Cable</td>\n",
       "      <td>1</td>\n",
       "      <td>11.95</td>\n",
       "      <td>Order Date</td>\n",
       "      <td>Purchase Address</td>\n",
       "    </tr>\n",
       "    <tr>\n",
       "      <th>freq</th>\n",
       "      <td>355</td>\n",
       "      <td>21903</td>\n",
       "      <td>168552</td>\n",
       "      <td>21903</td>\n",
       "      <td>355</td>\n",
       "      <td>355</td>\n",
       "    </tr>\n",
       "  </tbody>\n",
       "</table>\n",
       "</div>"
      ],
      "text/plain": [
       "        Order ID               Product Quantity Ordered Price Each  \\\n",
       "count     186305                186305           186305     186305   \n",
       "unique    178438                    20               10         24   \n",
       "top     Order ID  USB-C Charging Cable                1      11.95   \n",
       "freq         355                 21903           168552      21903   \n",
       "\n",
       "        Order Date  Purchase Address  \n",
       "count       186305            186305  \n",
       "unique      142396            140788  \n",
       "top     Order Date  Purchase Address  \n",
       "freq           355               355  "
      ]
     },
     "execution_count": 13,
     "metadata": {},
     "output_type": "execute_result"
    }
   ],
   "source": [
    "# View summary statistic\n",
    "data.describe()"
   ]
  },
  {
   "cell_type": "markdown",
   "id": "1e4e0868",
   "metadata": {},
   "source": [
    "Our dataset contains unexpected values (Order ID = \"Order ID\")"
   ]
  },
  {
   "cell_type": "markdown",
   "id": "54575a6b",
   "metadata": {},
   "source": [
    "## **2. Data Cleaning** <a class=\"anchor\" id=\"2\"></a>"
   ]
  },
  {
   "cell_type": "markdown",
   "id": "9751301c",
   "metadata": {},
   "source": [
    "#### **Handling missing values** <a class=\"anchor\" id=\"3\"></a>"
   ]
  },
  {
   "cell_type": "code",
   "execution_count": 61,
   "id": "fd858099",
   "metadata": {
    "scrolled": true
   },
   "outputs": [
    {
     "data": {
      "text/plain": [
       "Order ID            545\n",
       "Product             545\n",
       "Quantity Ordered    545\n",
       "Price Each          545\n",
       "Order Date          545\n",
       "Purchase Address    545\n",
       "dtype: int64"
      ]
     },
     "execution_count": 61,
     "metadata": {},
     "output_type": "execute_result"
    }
   ],
   "source": [
    "# Find missing value\n",
    "data.isnull().sum()"
   ]
  },
  {
   "cell_type": "code",
   "execution_count": 62,
   "id": "d01d7c49",
   "metadata": {
    "scrolled": false
   },
   "outputs": [
    {
     "data": {
      "text/plain": [
       "<AxesSubplot:>"
      ]
     },
     "execution_count": 62,
     "metadata": {},
     "output_type": "execute_result"
    },
    {
     "data": {
      "image/png": "[encoded data removed]",
      "text/plain": [
       "<Figure size 432x288 with 2 Axes>"
      ]
     },
     "metadata": {
      "needs_background": "light"
     },
     "output_type": "display_data"
    }
   ],
   "source": [
    "# Visualize missing value\n",
    "sns.heatmap(data.isnull(), cmap='viridis')"
   ]
  },
  {
   "cell_type": "code",
   "execution_count": 14,
   "id": "20e0f0d3",
   "metadata": {},
   "outputs": [
    {
     "data": {
      "text/html": [
       "<div>\n",
       "<style scoped>\n",
       "    .dataframe tbody tr th:only-of-type {\n",
       "        vertical-align: middle;\n",
       "    }\n",
       "\n",
       "    .dataframe tbody tr th {\n",
       "        vertical-align: top;\n",
       "    }\n",
       "\n",
       "    .dataframe thead th {\n",
       "        text-align: right;\n",
       "    }\n",
       "</style>\n",
       "<table border=\"1\" class=\"dataframe\">\n",
       "  <thead>\n",
       "    <tr style=\"text-align: right;\">\n",
       "      <th></th>\n",
       "      <th>Order ID</th>\n",
       "      <th>Product</th>\n",
       "      <th>Quantity Ordered</th>\n",
       "      <th>Price Each</th>\n",
       "      <th>Order Date</th>\n",
       "      <th>Purchase Address</th>\n",
       "    </tr>\n",
       "  </thead>\n",
       "  <tbody>\n",
       "    <tr>\n",
       "      <th>0</th>\n",
       "      <td>NaN</td>\n",
       "      <td>NaN</td>\n",
       "      <td>NaN</td>\n",
       "      <td>NaN</td>\n",
       "      <td>NaN</td>\n",
       "      <td>NaN</td>\n",
       "    </tr>\n",
       "    <tr>\n",
       "      <th>1</th>\n",
       "      <td>NaN</td>\n",
       "      <td>NaN</td>\n",
       "      <td>NaN</td>\n",
       "      <td>NaN</td>\n",
       "      <td>NaN</td>\n",
       "      <td>NaN</td>\n",
       "    </tr>\n",
       "    <tr>\n",
       "      <th>2</th>\n",
       "      <td>NaN</td>\n",
       "      <td>NaN</td>\n",
       "      <td>NaN</td>\n",
       "      <td>NaN</td>\n",
       "      <td>NaN</td>\n",
       "      <td>NaN</td>\n",
       "    </tr>\n",
       "    <tr>\n",
       "      <th>3</th>\n",
       "      <td>NaN</td>\n",
       "      <td>NaN</td>\n",
       "      <td>NaN</td>\n",
       "      <td>NaN</td>\n",
       "      <td>NaN</td>\n",
       "      <td>NaN</td>\n",
       "    </tr>\n",
       "    <tr>\n",
       "      <th>4</th>\n",
       "      <td>NaN</td>\n",
       "      <td>NaN</td>\n",
       "      <td>NaN</td>\n",
       "      <td>NaN</td>\n",
       "      <td>NaN</td>\n",
       "      <td>NaN</td>\n",
       "    </tr>\n",
       "    <tr>\n",
       "      <th>...</th>\n",
       "      <td>...</td>\n",
       "      <td>...</td>\n",
       "      <td>...</td>\n",
       "      <td>...</td>\n",
       "      <td>...</td>\n",
       "      <td>...</td>\n",
       "    </tr>\n",
       "    <tr>\n",
       "      <th>11681</th>\n",
       "      <td>NaN</td>\n",
       "      <td>NaN</td>\n",
       "      <td>NaN</td>\n",
       "      <td>NaN</td>\n",
       "      <td>NaN</td>\n",
       "      <td>NaN</td>\n",
       "    </tr>\n",
       "    <tr>\n",
       "      <th>11682</th>\n",
       "      <td>NaN</td>\n",
       "      <td>NaN</td>\n",
       "      <td>NaN</td>\n",
       "      <td>NaN</td>\n",
       "      <td>NaN</td>\n",
       "      <td>NaN</td>\n",
       "    </tr>\n",
       "    <tr>\n",
       "      <th>11683</th>\n",
       "      <td>NaN</td>\n",
       "      <td>NaN</td>\n",
       "      <td>NaN</td>\n",
       "      <td>NaN</td>\n",
       "      <td>NaN</td>\n",
       "      <td>NaN</td>\n",
       "    </tr>\n",
       "    <tr>\n",
       "      <th>11684</th>\n",
       "      <td>NaN</td>\n",
       "      <td>NaN</td>\n",
       "      <td>NaN</td>\n",
       "      <td>NaN</td>\n",
       "      <td>NaN</td>\n",
       "      <td>NaN</td>\n",
       "    </tr>\n",
       "    <tr>\n",
       "      <th>11685</th>\n",
       "      <td>NaN</td>\n",
       "      <td>NaN</td>\n",
       "      <td>NaN</td>\n",
       "      <td>NaN</td>\n",
       "      <td>NaN</td>\n",
       "      <td>NaN</td>\n",
       "    </tr>\n",
       "  </tbody>\n",
       "</table>\n",
       "<p>186850 rows × 6 columns</p>\n",
       "</div>"
      ],
      "text/plain": [
       "      Order ID Product Quantity Ordered Price Each Order Date Purchase Address\n",
       "0          NaN     NaN              NaN        NaN        NaN              NaN\n",
       "1          NaN     NaN              NaN        NaN        NaN              NaN\n",
       "2          NaN     NaN              NaN        NaN        NaN              NaN\n",
       "3          NaN     NaN              NaN        NaN        NaN              NaN\n",
       "4          NaN     NaN              NaN        NaN        NaN              NaN\n",
       "...        ...     ...              ...        ...        ...              ...\n",
       "11681      NaN     NaN              NaN        NaN        NaN              NaN\n",
       "11682      NaN     NaN              NaN        NaN        NaN              NaN\n",
       "11683      NaN     NaN              NaN        NaN        NaN              NaN\n",
       "11684      NaN     NaN              NaN        NaN        NaN              NaN\n",
       "11685      NaN     NaN              NaN        NaN        NaN              NaN\n",
       "\n",
       "[186850 rows x 6 columns]"
      ]
     },
     "execution_count": 14,
     "metadata": {},
     "output_type": "execute_result"
    }
   ],
   "source": [
    "# View missing vavlues\n",
    "data[data.isnull()]"
   ]
  },
  {
   "cell_type": "code",
   "execution_count": 16,
   "id": "98f1af57",
   "metadata": {},
   "outputs": [],
   "source": [
    "# Drop missing value\n",
    "data.dropna(inplace=True)"
   ]
  },
  {
   "cell_type": "code",
   "execution_count": 17,
   "id": "90d56285",
   "metadata": {
    "scrolled": true
   },
   "outputs": [
    {
     "data": {
      "text/plain": [
       "Order ID            0\n",
       "Product             0\n",
       "Quantity Ordered    0\n",
       "Price Each          0\n",
       "Order Date          0\n",
       "Purchase Address    0\n",
       "dtype: int64"
      ]
     },
     "execution_count": 17,
     "metadata": {},
     "output_type": "execute_result"
    }
   ],
   "source": [
    "# Verification\n",
    "data.isnull().sum()"
   ]
  },
  {
   "cell_type": "markdown",
   "id": "fc485a4e",
   "metadata": {},
   "source": [
    "#### **Identifying Outliers and Unexpected values** <a class=\"anchor\" id=\"4\"></a>"
   ]
  },
  {
   "cell_type": "code",
   "execution_count": 18,
   "id": "b0ead37a",
   "metadata": {
    "scrolled": true
   },
   "outputs": [
    {
     "data": {
      "text/html": [
       "<div>\n",
       "<style scoped>\n",
       "    .dataframe tbody tr th:only-of-type {\n",
       "        vertical-align: middle;\n",
       "    }\n",
       "\n",
       "    .dataframe tbody tr th {\n",
       "        vertical-align: top;\n",
       "    }\n",
       "\n",
       "    .dataframe thead th {\n",
       "        text-align: right;\n",
       "    }\n",
       "</style>\n",
       "<table border=\"1\" class=\"dataframe\">\n",
       "  <thead>\n",
       "    <tr style=\"text-align: right;\">\n",
       "      <th></th>\n",
       "      <th>Order ID</th>\n",
       "      <th>Product</th>\n",
       "      <th>Quantity Ordered</th>\n",
       "      <th>Price Each</th>\n",
       "      <th>Order Date</th>\n",
       "      <th>Purchase Address</th>\n",
       "    </tr>\n",
       "  </thead>\n",
       "  <tbody>\n",
       "    <tr>\n",
       "      <th>9549</th>\n",
       "      <td>Order ID</td>\n",
       "      <td>Product</td>\n",
       "      <td>Quantity Ordered</td>\n",
       "      <td>Price Each</td>\n",
       "      <td>Order Date</td>\n",
       "      <td>Purchase Address</td>\n",
       "    </tr>\n",
       "    <tr>\n",
       "      <th>8707</th>\n",
       "      <td>Order ID</td>\n",
       "      <td>Product</td>\n",
       "      <td>Quantity Ordered</td>\n",
       "      <td>Price Each</td>\n",
       "      <td>Order Date</td>\n",
       "      <td>Purchase Address</td>\n",
       "    </tr>\n",
       "    <tr>\n",
       "      <th>12037</th>\n",
       "      <td>Order ID</td>\n",
       "      <td>Product</td>\n",
       "      <td>Quantity Ordered</td>\n",
       "      <td>Price Each</td>\n",
       "      <td>Order Date</td>\n",
       "      <td>Purchase Address</td>\n",
       "    </tr>\n",
       "    <tr>\n",
       "      <th>11989</th>\n",
       "      <td>Order ID</td>\n",
       "      <td>Product</td>\n",
       "      <td>Quantity Ordered</td>\n",
       "      <td>Price Each</td>\n",
       "      <td>Order Date</td>\n",
       "      <td>Purchase Address</td>\n",
       "    </tr>\n",
       "    <tr>\n",
       "      <th>10309</th>\n",
       "      <td>Order ID</td>\n",
       "      <td>Product</td>\n",
       "      <td>Quantity Ordered</td>\n",
       "      <td>Price Each</td>\n",
       "      <td>Order Date</td>\n",
       "      <td>Purchase Address</td>\n",
       "    </tr>\n",
       "  </tbody>\n",
       "</table>\n",
       "</div>"
      ],
      "text/plain": [
       "       Order ID  Product  Quantity Ordered  Price Each  Order Date  \\\n",
       "9549   Order ID  Product  Quantity Ordered  Price Each  Order Date   \n",
       "8707   Order ID  Product  Quantity Ordered  Price Each  Order Date   \n",
       "12037  Order ID  Product  Quantity Ordered  Price Each  Order Date   \n",
       "11989  Order ID  Product  Quantity Ordered  Price Each  Order Date   \n",
       "10309  Order ID  Product  Quantity Ordered  Price Each  Order Date   \n",
       "\n",
       "       Purchase Address  \n",
       "9549   Purchase Address  \n",
       "8707   Purchase Address  \n",
       "12037  Purchase Address  \n",
       "11989  Purchase Address  \n",
       "10309  Purchase Address  "
      ]
     },
     "execution_count": 18,
     "metadata": {},
     "output_type": "execute_result"
    }
   ],
   "source": [
    "data.sort_values(by=\"Order ID\", ascending=False).head()"
   ]
  },
  {
   "cell_type": "code",
   "execution_count": 19,
   "id": "918aeb7c",
   "metadata": {},
   "outputs": [
    {
     "data": {
      "text/html": [
       "<div>\n",
       "<style scoped>\n",
       "    .dataframe tbody tr th:only-of-type {\n",
       "        vertical-align: middle;\n",
       "    }\n",
       "\n",
       "    .dataframe tbody tr th {\n",
       "        vertical-align: top;\n",
       "    }\n",
       "\n",
       "    .dataframe thead th {\n",
       "        text-align: right;\n",
       "    }\n",
       "</style>\n",
       "<table border=\"1\" class=\"dataframe\">\n",
       "  <thead>\n",
       "    <tr style=\"text-align: right;\">\n",
       "      <th></th>\n",
       "      <th>Order ID</th>\n",
       "      <th>Product</th>\n",
       "      <th>Quantity Ordered</th>\n",
       "      <th>Price Each</th>\n",
       "      <th>Order Date</th>\n",
       "      <th>Purchase Address</th>\n",
       "    </tr>\n",
       "  </thead>\n",
       "  <tbody>\n",
       "    <tr>\n",
       "      <th>519</th>\n",
       "      <td>Order ID</td>\n",
       "      <td>Product</td>\n",
       "      <td>Quantity Ordered</td>\n",
       "      <td>Price Each</td>\n",
       "      <td>Order Date</td>\n",
       "      <td>Purchase Address</td>\n",
       "    </tr>\n",
       "    <tr>\n",
       "      <th>1149</th>\n",
       "      <td>Order ID</td>\n",
       "      <td>Product</td>\n",
       "      <td>Quantity Ordered</td>\n",
       "      <td>Price Each</td>\n",
       "      <td>Order Date</td>\n",
       "      <td>Purchase Address</td>\n",
       "    </tr>\n",
       "    <tr>\n",
       "      <th>1155</th>\n",
       "      <td>Order ID</td>\n",
       "      <td>Product</td>\n",
       "      <td>Quantity Ordered</td>\n",
       "      <td>Price Each</td>\n",
       "      <td>Order Date</td>\n",
       "      <td>Purchase Address</td>\n",
       "    </tr>\n",
       "    <tr>\n",
       "      <th>2878</th>\n",
       "      <td>Order ID</td>\n",
       "      <td>Product</td>\n",
       "      <td>Quantity Ordered</td>\n",
       "      <td>Price Each</td>\n",
       "      <td>Order Date</td>\n",
       "      <td>Purchase Address</td>\n",
       "    </tr>\n",
       "    <tr>\n",
       "      <th>2893</th>\n",
       "      <td>Order ID</td>\n",
       "      <td>Product</td>\n",
       "      <td>Quantity Ordered</td>\n",
       "      <td>Price Each</td>\n",
       "      <td>Order Date</td>\n",
       "      <td>Purchase Address</td>\n",
       "    </tr>\n",
       "    <tr>\n",
       "      <th>...</th>\n",
       "      <td>...</td>\n",
       "      <td>...</td>\n",
       "      <td>...</td>\n",
       "      <td>...</td>\n",
       "      <td>...</td>\n",
       "      <td>...</td>\n",
       "    </tr>\n",
       "    <tr>\n",
       "      <th>10000</th>\n",
       "      <td>Order ID</td>\n",
       "      <td>Product</td>\n",
       "      <td>Quantity Ordered</td>\n",
       "      <td>Price Each</td>\n",
       "      <td>Order Date</td>\n",
       "      <td>Purchase Address</td>\n",
       "    </tr>\n",
       "    <tr>\n",
       "      <th>10387</th>\n",
       "      <td>Order ID</td>\n",
       "      <td>Product</td>\n",
       "      <td>Quantity Ordered</td>\n",
       "      <td>Price Each</td>\n",
       "      <td>Order Date</td>\n",
       "      <td>Purchase Address</td>\n",
       "    </tr>\n",
       "    <tr>\n",
       "      <th>11399</th>\n",
       "      <td>Order ID</td>\n",
       "      <td>Product</td>\n",
       "      <td>Quantity Ordered</td>\n",
       "      <td>Price Each</td>\n",
       "      <td>Order Date</td>\n",
       "      <td>Purchase Address</td>\n",
       "    </tr>\n",
       "    <tr>\n",
       "      <th>11468</th>\n",
       "      <td>Order ID</td>\n",
       "      <td>Product</td>\n",
       "      <td>Quantity Ordered</td>\n",
       "      <td>Price Each</td>\n",
       "      <td>Order Date</td>\n",
       "      <td>Purchase Address</td>\n",
       "    </tr>\n",
       "    <tr>\n",
       "      <th>11574</th>\n",
       "      <td>Order ID</td>\n",
       "      <td>Product</td>\n",
       "      <td>Quantity Ordered</td>\n",
       "      <td>Price Each</td>\n",
       "      <td>Order Date</td>\n",
       "      <td>Purchase Address</td>\n",
       "    </tr>\n",
       "  </tbody>\n",
       "</table>\n",
       "<p>355 rows × 6 columns</p>\n",
       "</div>"
      ],
      "text/plain": [
       "       Order ID  Product  Quantity Ordered  Price Each  Order Date  \\\n",
       "519    Order ID  Product  Quantity Ordered  Price Each  Order Date   \n",
       "1149   Order ID  Product  Quantity Ordered  Price Each  Order Date   \n",
       "1155   Order ID  Product  Quantity Ordered  Price Each  Order Date   \n",
       "2878   Order ID  Product  Quantity Ordered  Price Each  Order Date   \n",
       "2893   Order ID  Product  Quantity Ordered  Price Each  Order Date   \n",
       "...         ...      ...               ...         ...         ...   \n",
       "10000  Order ID  Product  Quantity Ordered  Price Each  Order Date   \n",
       "10387  Order ID  Product  Quantity Ordered  Price Each  Order Date   \n",
       "11399  Order ID  Product  Quantity Ordered  Price Each  Order Date   \n",
       "11468  Order ID  Product  Quantity Ordered  Price Each  Order Date   \n",
       "11574  Order ID  Product  Quantity Ordered  Price Each  Order Date   \n",
       "\n",
       "       Purchase Address  \n",
       "519    Purchase Address  \n",
       "1149   Purchase Address  \n",
       "1155   Purchase Address  \n",
       "2878   Purchase Address  \n",
       "2893   Purchase Address  \n",
       "...                 ...  \n",
       "10000  Purchase Address  \n",
       "10387  Purchase Address  \n",
       "11399  Purchase Address  \n",
       "11468  Purchase Address  \n",
       "11574  Purchase Address  \n",
       "\n",
       "[355 rows x 6 columns]"
      ]
     },
     "execution_count": 19,
     "metadata": {},
     "output_type": "execute_result"
    }
   ],
   "source": [
    "# View unexpected values\n",
    "data[data[\"Order ID\"] == \"Order ID\"]"
   ]
  },
  {
   "cell_type": "code",
   "execution_count": 20,
   "id": "1bd77282",
   "metadata": {},
   "outputs": [],
   "source": [
    "# Drop unexpected values\n",
    "data = data[data[\"Order ID\"] != \"Order ID\"]"
   ]
  },
  {
   "cell_type": "code",
   "execution_count": 21,
   "id": "2ba45c70",
   "metadata": {},
   "outputs": [
    {
     "data": {
      "text/html": [
       "<div>\n",
       "<style scoped>\n",
       "    .dataframe tbody tr th:only-of-type {\n",
       "        vertical-align: middle;\n",
       "    }\n",
       "\n",
       "    .dataframe tbody tr th {\n",
       "        vertical-align: top;\n",
       "    }\n",
       "\n",
       "    .dataframe thead th {\n",
       "        text-align: right;\n",
       "    }\n",
       "</style>\n",
       "<table border=\"1\" class=\"dataframe\">\n",
       "  <thead>\n",
       "    <tr style=\"text-align: right;\">\n",
       "      <th></th>\n",
       "      <th>Order ID</th>\n",
       "      <th>Product</th>\n",
       "      <th>Quantity Ordered</th>\n",
       "      <th>Price Each</th>\n",
       "      <th>Order Date</th>\n",
       "      <th>Purchase Address</th>\n",
       "    </tr>\n",
       "  </thead>\n",
       "  <tbody>\n",
       "  </tbody>\n",
       "</table>\n",
       "</div>"
      ],
      "text/plain": [
       "Empty DataFrame\n",
       "Columns: [Order ID, Product, Quantity Ordered, Price Each, Order Date, Purchase Address]\n",
       "Index: []"
      ]
     },
     "execution_count": 21,
     "metadata": {},
     "output_type": "execute_result"
    }
   ],
   "source": [
    "# Verification\n",
    "data[data[\"Order ID\"] == \"Order ID\"]"
   ]
  },
  {
   "cell_type": "markdown",
   "id": "a440d84b",
   "metadata": {},
   "source": [
    "#### **Data types Conversion** <a class=\"anchor\" id=\"5\"></a>"
   ]
  },
  {
   "cell_type": "code",
   "execution_count": 27,
   "id": "539cef45",
   "metadata": {
    "scrolled": true
   },
   "outputs": [
    {
     "data": {
      "text/plain": [
       "Order ID                    object\n",
       "Product                     object\n",
       "Quantity Ordered             int64\n",
       "Price Each                 float64\n",
       "Order Date          datetime64[ns]\n",
       "Purchase Address            object\n",
       "dtype: object"
      ]
     },
     "execution_count": 27,
     "metadata": {},
     "output_type": "execute_result"
    }
   ],
   "source": [
    "# View data types\n",
    "data.dtypes"
   ]
  },
  {
   "cell_type": "code",
   "execution_count": 24,
   "id": "15502d31",
   "metadata": {},
   "outputs": [],
   "source": [
    "# convert to datetime\n",
    "data['Order Date'] = pd.to_datetime(data['Order Date'])"
   ]
  },
  {
   "cell_type": "code",
   "execution_count": 26,
   "id": "7bf687e4",
   "metadata": {},
   "outputs": [],
   "source": [
    "# convert to float\n",
    "data['Price Each'] = pd.to_numeric(data[\"Price Each\"]) \n",
    "# convert to int\n",
    "data['Quantity Ordered'] = pd.to_numeric(data[\"Quantity Ordered\"]) "
   ]
  },
  {
   "cell_type": "code",
   "execution_count": 28,
   "id": "3fe9315e",
   "metadata": {
    "scrolled": true
   },
   "outputs": [
    {
     "data": {
      "text/plain": [
       "Order ID                    object\n",
       "Product                     object\n",
       "Quantity Ordered             int64\n",
       "Price Each                 float64\n",
       "Order Date          datetime64[ns]\n",
       "Purchase Address            object\n",
       "dtype: object"
      ]
     },
     "execution_count": 28,
     "metadata": {},
     "output_type": "execute_result"
    }
   ],
   "source": [
    "# Verification\n",
    "data.dtypes"
   ]
  },
  {
   "cell_type": "markdown",
   "id": "798a839a",
   "metadata": {},
   "source": [
    "#### **Remove duplicates values** <a class=\"anchor\" id=\"6\"></a>"
   ]
  },
  {
   "cell_type": "code",
   "execution_count": 32,
   "id": "018d2962",
   "metadata": {},
   "outputs": [
    {
     "data": {
      "text/plain": [
       "264"
      ]
     },
     "execution_count": 32,
     "metadata": {},
     "output_type": "execute_result"
    }
   ],
   "source": [
    "# Number of duplicated values\n",
    "data.duplicated().sum()"
   ]
  },
  {
   "cell_type": "code",
   "execution_count": 33,
   "id": "b1d1af0e",
   "metadata": {},
   "outputs": [],
   "source": [
    "# Drop duplicated values\n",
    "data.drop_duplicates(inplace=True)"
   ]
  },
  {
   "cell_type": "markdown",
   "id": "5f8a10d1",
   "metadata": {},
   "source": [
    "Save this cleaned data"
   ]
  },
  {
   "cell_type": "code",
   "execution_count": 80,
   "id": "6981f5e2",
   "metadata": {},
   "outputs": [],
   "source": [
    "data.to_csv('./data/cleaned/sales.csv', index=False)"
   ]
  },
  {
   "cell_type": "markdown",
   "id": "bc63455c",
   "metadata": {},
   "source": [
    "## **3. Data Analysis** <a class=\"anchor\" id=\"7\"></a>"
   ]
  },
  {
   "cell_type": "markdown",
   "id": "08dd4a56",
   "metadata": {},
   "source": [
    " #### 1. What was the best month for sales? How much was earned that month?"
   ]
  },
  {
   "cell_type": "markdown",
   "id": "c5dc4be1",
   "metadata": {},
   "source": [
    "Let's add month column to our dataset"
   ]
  },
  {
   "cell_type": "code",
   "execution_count": 34,
   "id": "e80be54b",
   "metadata": {},
   "outputs": [],
   "source": [
    "# get month from Order date\n",
    "data[\"Month\"] = data[\"Order Date\"].dt.month_name()"
   ]
  },
  {
   "cell_type": "code",
   "execution_count": 82,
   "id": "293854b4",
   "metadata": {},
   "outputs": [
    {
     "data": {
      "text/html": [
       "<div>\n",
       "<style scoped>\n",
       "    .dataframe tbody tr th:only-of-type {\n",
       "        vertical-align: middle;\n",
       "    }\n",
       "\n",
       "    .dataframe tbody tr th {\n",
       "        vertical-align: top;\n",
       "    }\n",
       "\n",
       "    .dataframe thead th {\n",
       "        text-align: right;\n",
       "    }\n",
       "</style>\n",
       "<table border=\"1\" class=\"dataframe\">\n",
       "  <thead>\n",
       "    <tr style=\"text-align: right;\">\n",
       "      <th></th>\n",
       "      <th>Order ID</th>\n",
       "      <th>Product</th>\n",
       "      <th>Quantity Ordered</th>\n",
       "      <th>Price Each</th>\n",
       "      <th>Order Date</th>\n",
       "      <th>Purchase Address</th>\n",
       "      <th>Month</th>\n",
       "    </tr>\n",
       "  </thead>\n",
       "  <tbody>\n",
       "    <tr>\n",
       "      <th>0</th>\n",
       "      <td>176558</td>\n",
       "      <td>USB-C Charging Cable</td>\n",
       "      <td>2</td>\n",
       "      <td>11.95</td>\n",
       "      <td>2019-04-19 08:46:00</td>\n",
       "      <td>917 1st St, Dallas, TX 75001</td>\n",
       "      <td>April</td>\n",
       "    </tr>\n",
       "    <tr>\n",
       "      <th>2</th>\n",
       "      <td>176559</td>\n",
       "      <td>Bose SoundSport Headphones</td>\n",
       "      <td>1</td>\n",
       "      <td>99.99</td>\n",
       "      <td>2019-04-07 22:30:00</td>\n",
       "      <td>682 Chestnut St, Boston, MA 02215</td>\n",
       "      <td>April</td>\n",
       "    </tr>\n",
       "    <tr>\n",
       "      <th>3</th>\n",
       "      <td>176560</td>\n",
       "      <td>Google Phone</td>\n",
       "      <td>1</td>\n",
       "      <td>600.00</td>\n",
       "      <td>2019-04-12 14:38:00</td>\n",
       "      <td>669 Spruce St, Los Angeles, CA 90001</td>\n",
       "      <td>April</td>\n",
       "    </tr>\n",
       "    <tr>\n",
       "      <th>4</th>\n",
       "      <td>176560</td>\n",
       "      <td>Wired Headphones</td>\n",
       "      <td>1</td>\n",
       "      <td>11.99</td>\n",
       "      <td>2019-04-12 14:38:00</td>\n",
       "      <td>669 Spruce St, Los Angeles, CA 90001</td>\n",
       "      <td>April</td>\n",
       "    </tr>\n",
       "    <tr>\n",
       "      <th>5</th>\n",
       "      <td>176561</td>\n",
       "      <td>Wired Headphones</td>\n",
       "      <td>1</td>\n",
       "      <td>11.99</td>\n",
       "      <td>2019-04-30 09:27:00</td>\n",
       "      <td>333 8th St, Los Angeles, CA 90001</td>\n",
       "      <td>April</td>\n",
       "    </tr>\n",
       "  </tbody>\n",
       "</table>\n",
       "</div>"
      ],
      "text/plain": [
       "  Order ID                     Product  Quantity Ordered  Price Each  \\\n",
       "0   176558        USB-C Charging Cable                 2       11.95   \n",
       "2   176559  Bose SoundSport Headphones                 1       99.99   \n",
       "3   176560                Google Phone                 1      600.00   \n",
       "4   176560            Wired Headphones                 1       11.99   \n",
       "5   176561            Wired Headphones                 1       11.99   \n",
       "\n",
       "           Order Date                      Purchase Address  Month  \n",
       "0 2019-04-19 08:46:00          917 1st St, Dallas, TX 75001  April  \n",
       "2 2019-04-07 22:30:00     682 Chestnut St, Boston, MA 02215  April  \n",
       "3 2019-04-12 14:38:00  669 Spruce St, Los Angeles, CA 90001  April  \n",
       "4 2019-04-12 14:38:00  669 Spruce St, Los Angeles, CA 90001  April  \n",
       "5 2019-04-30 09:27:00     333 8th St, Los Angeles, CA 90001  April  "
      ]
     },
     "execution_count": 82,
     "metadata": {},
     "output_type": "execute_result"
    }
   ],
   "source": [
    "data.head()"
   ]
  },
  {
   "cell_type": "code",
   "execution_count": 35,
   "id": "e6464708",
   "metadata": {},
   "outputs": [],
   "source": [
    "# Sort data by order date\n",
    "data = data.sort_values(by=\"Order Date\", ascending=True).reset_index().drop(columns=\"index\", axis=1)"
   ]
  },
  {
   "cell_type": "code",
   "execution_count": 86,
   "id": "2c1da403",
   "metadata": {},
   "outputs": [
    {
     "data": {
      "text/html": [
       "<div>\n",
       "<style scoped>\n",
       "    .dataframe tbody tr th:only-of-type {\n",
       "        vertical-align: middle;\n",
       "    }\n",
       "\n",
       "    .dataframe tbody tr th {\n",
       "        vertical-align: top;\n",
       "    }\n",
       "\n",
       "    .dataframe thead th {\n",
       "        text-align: right;\n",
       "    }\n",
       "</style>\n",
       "<table border=\"1\" class=\"dataframe\">\n",
       "  <thead>\n",
       "    <tr style=\"text-align: right;\">\n",
       "      <th></th>\n",
       "      <th>Order ID</th>\n",
       "      <th>Product</th>\n",
       "      <th>Quantity Ordered</th>\n",
       "      <th>Price Each</th>\n",
       "      <th>Order Date</th>\n",
       "      <th>Purchase Address</th>\n",
       "      <th>Month</th>\n",
       "    </tr>\n",
       "  </thead>\n",
       "  <tbody>\n",
       "    <tr>\n",
       "      <th>0</th>\n",
       "      <td>147268</td>\n",
       "      <td>Wired Headphones</td>\n",
       "      <td>1</td>\n",
       "      <td>11.99</td>\n",
       "      <td>2019-01-01 03:07:00</td>\n",
       "      <td>9 Lake St, New York City, NY 10001</td>\n",
       "      <td>January</td>\n",
       "    </tr>\n",
       "    <tr>\n",
       "      <th>1</th>\n",
       "      <td>148041</td>\n",
       "      <td>USB-C Charging Cable</td>\n",
       "      <td>1</td>\n",
       "      <td>11.95</td>\n",
       "      <td>2019-01-01 03:40:00</td>\n",
       "      <td>760 Church St, San Francisco, CA 94016</td>\n",
       "      <td>January</td>\n",
       "    </tr>\n",
       "    <tr>\n",
       "      <th>2</th>\n",
       "      <td>149343</td>\n",
       "      <td>Apple Airpods Headphones</td>\n",
       "      <td>1</td>\n",
       "      <td>150.00</td>\n",
       "      <td>2019-01-01 04:56:00</td>\n",
       "      <td>735 5th St, New York City, NY 10001</td>\n",
       "      <td>January</td>\n",
       "    </tr>\n",
       "    <tr>\n",
       "      <th>3</th>\n",
       "      <td>149964</td>\n",
       "      <td>AAA Batteries (4-pack)</td>\n",
       "      <td>1</td>\n",
       "      <td>2.99</td>\n",
       "      <td>2019-01-01 05:53:00</td>\n",
       "      <td>75 Jackson St, Dallas, TX 75001</td>\n",
       "      <td>January</td>\n",
       "    </tr>\n",
       "    <tr>\n",
       "      <th>4</th>\n",
       "      <td>149350</td>\n",
       "      <td>USB-C Charging Cable</td>\n",
       "      <td>2</td>\n",
       "      <td>11.95</td>\n",
       "      <td>2019-01-01 06:03:00</td>\n",
       "      <td>943 2nd St, Atlanta, GA 30301</td>\n",
       "      <td>January</td>\n",
       "    </tr>\n",
       "  </tbody>\n",
       "</table>\n",
       "</div>"
      ],
      "text/plain": [
       "  Order ID                   Product  Quantity Ordered  Price Each  \\\n",
       "0   147268          Wired Headphones                 1       11.99   \n",
       "1   148041      USB-C Charging Cable                 1       11.95   \n",
       "2   149343  Apple Airpods Headphones                 1      150.00   \n",
       "3   149964    AAA Batteries (4-pack)                 1        2.99   \n",
       "4   149350      USB-C Charging Cable                 2       11.95   \n",
       "\n",
       "           Order Date                        Purchase Address    Month  \n",
       "0 2019-01-01 03:07:00      9 Lake St, New York City, NY 10001  January  \n",
       "1 2019-01-01 03:40:00  760 Church St, San Francisco, CA 94016  January  \n",
       "2 2019-01-01 04:56:00     735 5th St, New York City, NY 10001  January  \n",
       "3 2019-01-01 05:53:00         75 Jackson St, Dallas, TX 75001  January  \n",
       "4 2019-01-01 06:03:00           943 2nd St, Atlanta, GA 30301  January  "
      ]
     },
     "execution_count": 86,
     "metadata": {},
     "output_type": "execute_result"
    }
   ],
   "source": [
    "data.head()"
   ]
  },
  {
   "cell_type": "markdown",
   "id": "afe5ad41",
   "metadata": {},
   "source": [
    "add Net Sales columns"
   ]
  },
  {
   "cell_type": "code",
   "execution_count": 36,
   "id": "762cdce5",
   "metadata": {},
   "outputs": [],
   "source": [
    "data['Net Sales'] = data[\"Price Each\"] * data['Quantity Ordered']"
   ]
  },
  {
   "cell_type": "code",
   "execution_count": 37,
   "id": "142b2e2c",
   "metadata": {},
   "outputs": [
    {
     "data": {
      "text/html": [
       "<div>\n",
       "<style scoped>\n",
       "    .dataframe tbody tr th:only-of-type {\n",
       "        vertical-align: middle;\n",
       "    }\n",
       "\n",
       "    .dataframe tbody tr th {\n",
       "        vertical-align: top;\n",
       "    }\n",
       "\n",
       "    .dataframe thead th {\n",
       "        text-align: right;\n",
       "    }\n",
       "</style>\n",
       "<table border=\"1\" class=\"dataframe\">\n",
       "  <thead>\n",
       "    <tr style=\"text-align: right;\">\n",
       "      <th></th>\n",
       "      <th>Order ID</th>\n",
       "      <th>Product</th>\n",
       "      <th>Quantity Ordered</th>\n",
       "      <th>Price Each</th>\n",
       "      <th>Order Date</th>\n",
       "      <th>Purchase Address</th>\n",
       "      <th>Month</th>\n",
       "      <th>Net Sales</th>\n",
       "    </tr>\n",
       "  </thead>\n",
       "  <tbody>\n",
       "    <tr>\n",
       "      <th>0</th>\n",
       "      <td>147268</td>\n",
       "      <td>Wired Headphones</td>\n",
       "      <td>1</td>\n",
       "      <td>11.99</td>\n",
       "      <td>2019-01-01 03:07:00</td>\n",
       "      <td>9 Lake St, New York City, NY 10001</td>\n",
       "      <td>January</td>\n",
       "      <td>11.99</td>\n",
       "    </tr>\n",
       "    <tr>\n",
       "      <th>1</th>\n",
       "      <td>148041</td>\n",
       "      <td>USB-C Charging Cable</td>\n",
       "      <td>1</td>\n",
       "      <td>11.95</td>\n",
       "      <td>2019-01-01 03:40:00</td>\n",
       "      <td>760 Church St, San Francisco, CA 94016</td>\n",
       "      <td>January</td>\n",
       "      <td>11.95</td>\n",
       "    </tr>\n",
       "    <tr>\n",
       "      <th>2</th>\n",
       "      <td>149343</td>\n",
       "      <td>Apple Airpods Headphones</td>\n",
       "      <td>1</td>\n",
       "      <td>150.00</td>\n",
       "      <td>2019-01-01 04:56:00</td>\n",
       "      <td>735 5th St, New York City, NY 10001</td>\n",
       "      <td>January</td>\n",
       "      <td>150.00</td>\n",
       "    </tr>\n",
       "    <tr>\n",
       "      <th>3</th>\n",
       "      <td>149964</td>\n",
       "      <td>AAA Batteries (4-pack)</td>\n",
       "      <td>1</td>\n",
       "      <td>2.99</td>\n",
       "      <td>2019-01-01 05:53:00</td>\n",
       "      <td>75 Jackson St, Dallas, TX 75001</td>\n",
       "      <td>January</td>\n",
       "      <td>2.99</td>\n",
       "    </tr>\n",
       "    <tr>\n",
       "      <th>4</th>\n",
       "      <td>149350</td>\n",
       "      <td>USB-C Charging Cable</td>\n",
       "      <td>2</td>\n",
       "      <td>11.95</td>\n",
       "      <td>2019-01-01 06:03:00</td>\n",
       "      <td>943 2nd St, Atlanta, GA 30301</td>\n",
       "      <td>January</td>\n",
       "      <td>23.90</td>\n",
       "    </tr>\n",
       "  </tbody>\n",
       "</table>\n",
       "</div>"
      ],
      "text/plain": [
       "  Order ID                   Product  Quantity Ordered  Price Each  \\\n",
       "0   147268          Wired Headphones                 1       11.99   \n",
       "1   148041      USB-C Charging Cable                 1       11.95   \n",
       "2   149343  Apple Airpods Headphones                 1      150.00   \n",
       "3   149964    AAA Batteries (4-pack)                 1        2.99   \n",
       "4   149350      USB-C Charging Cable                 2       11.95   \n",
       "\n",
       "           Order Date                        Purchase Address    Month  \\\n",
       "0 2019-01-01 03:07:00      9 Lake St, New York City, NY 10001  January   \n",
       "1 2019-01-01 03:40:00  760 Church St, San Francisco, CA 94016  January   \n",
       "2 2019-01-01 04:56:00     735 5th St, New York City, NY 10001  January   \n",
       "3 2019-01-01 05:53:00         75 Jackson St, Dallas, TX 75001  January   \n",
       "4 2019-01-01 06:03:00           943 2nd St, Atlanta, GA 30301  January   \n",
       "\n",
       "   Net Sales  \n",
       "0      11.99  \n",
       "1      11.95  \n",
       "2     150.00  \n",
       "3       2.99  \n",
       "4      23.90  "
      ]
     },
     "execution_count": 37,
     "metadata": {},
     "output_type": "execute_result"
    }
   ],
   "source": [
    "data.head()"
   ]
  },
  {
   "cell_type": "markdown",
   "id": "3b5679e6",
   "metadata": {},
   "source": [
    "Group data by month and sort it"
   ]
  },
  {
   "cell_type": "code",
   "execution_count": 38,
   "id": "15e0bdc8",
   "metadata": {},
   "outputs": [
    {
     "data": {
      "text/plain": [
       "Month\n",
       "December     4608295.70\n",
       "October      3734777.86\n",
       "April        3389217.98\n",
       "November     3197875.05\n",
       "May          3150616.23\n",
       "March        2804973.35\n",
       "July         2646461.32\n",
       "June         2576280.15\n",
       "August       2241083.37\n",
       "February     2200078.08\n",
       "September    2094465.69\n",
       "January      1821413.16\n",
       "Name: Net Sales, dtype: float64"
      ]
     },
     "execution_count": 38,
     "metadata": {},
     "output_type": "execute_result"
    }
   ],
   "source": [
    "data.groupby('Month')['Net Sales'].sum().sort_values(ascending=False)"
   ]
  },
  {
   "cell_type": "code",
   "execution_count": 39,
   "id": "0bbb4cdc",
   "metadata": {},
   "outputs": [
    {
     "data": {
      "image/png": "[encoded data removed]",
      "text/plain": [
       "<Figure size 1152x576 with 1 Axes>"
      ]
     },
     "metadata": {
      "needs_background": "light"
     },
     "output_type": "display_data"
    }
   ],
   "source": [
    "# Visualization\n",
    "plt.figure(figsize=(16, 8))\n",
    "data.groupby('Month')['Net Sales'].sum().sort_values(ascending=True).plot(kind=\"barh\")\n",
    "plt.title(\"Net Sales by Month\")\n",
    "plt.show()"
   ]
  },
  {
   "cell_type": "markdown",
   "id": "577787e3",
   "metadata": {},
   "source": [
    "> The best month in terms of sales was december, with a revenue of $4,608,295."
   ]
  },
  {
   "cell_type": "markdown",
   "id": "7ddfc22c",
   "metadata": {},
   "source": [
    "#### 2. Which city had the highest number of sales ?"
   ]
  },
  {
   "cell_type": "code",
   "execution_count": 40,
   "id": "56dbe710",
   "metadata": {},
   "outputs": [],
   "source": [
    "# Get city from \"Purchase Address\" columns\n",
    "def get_city(string):\n",
    "    city = string.split(\",\")[1].strip()\n",
    "    return city\n",
    "\n",
    "data['City'] = data['Purchase Address'].apply(get_city)"
   ]
  },
  {
   "cell_type": "code",
   "execution_count": 46,
   "id": "a6a7564a",
   "metadata": {},
   "outputs": [
    {
     "data": {
      "text/html": [
       "<div>\n",
       "<style scoped>\n",
       "    .dataframe tbody tr th:only-of-type {\n",
       "        vertical-align: middle;\n",
       "    }\n",
       "\n",
       "    .dataframe tbody tr th {\n",
       "        vertical-align: top;\n",
       "    }\n",
       "\n",
       "    .dataframe thead th {\n",
       "        text-align: right;\n",
       "    }\n",
       "</style>\n",
       "<table border=\"1\" class=\"dataframe\">\n",
       "  <thead>\n",
       "    <tr style=\"text-align: right;\">\n",
       "      <th></th>\n",
       "      <th>Order ID</th>\n",
       "      <th>Product</th>\n",
       "      <th>Quantity Ordered</th>\n",
       "      <th>Price Each</th>\n",
       "      <th>Order Date</th>\n",
       "      <th>Purchase Address</th>\n",
       "      <th>Month</th>\n",
       "      <th>Net Sales</th>\n",
       "      <th>City</th>\n",
       "      <th>Hour</th>\n",
       "    </tr>\n",
       "  </thead>\n",
       "  <tbody>\n",
       "    <tr>\n",
       "      <th>0</th>\n",
       "      <td>147268</td>\n",
       "      <td>Wired Headphones</td>\n",
       "      <td>1</td>\n",
       "      <td>11.99</td>\n",
       "      <td>2019-01-01 03:07:00</td>\n",
       "      <td>9 Lake St, New York City, NY 10001</td>\n",
       "      <td>January</td>\n",
       "      <td>11.99</td>\n",
       "      <td>New York City</td>\n",
       "      <td>3</td>\n",
       "    </tr>\n",
       "    <tr>\n",
       "      <th>1</th>\n",
       "      <td>148041</td>\n",
       "      <td>USB-C Charging Cable</td>\n",
       "      <td>1</td>\n",
       "      <td>11.95</td>\n",
       "      <td>2019-01-01 03:40:00</td>\n",
       "      <td>760 Church St, San Francisco, CA 94016</td>\n",
       "      <td>January</td>\n",
       "      <td>11.95</td>\n",
       "      <td>San Francisco</td>\n",
       "      <td>3</td>\n",
       "    </tr>\n",
       "    <tr>\n",
       "      <th>2</th>\n",
       "      <td>149343</td>\n",
       "      <td>Apple Airpods Headphones</td>\n",
       "      <td>1</td>\n",
       "      <td>150.00</td>\n",
       "      <td>2019-01-01 04:56:00</td>\n",
       "      <td>735 5th St, New York City, NY 10001</td>\n",
       "      <td>January</td>\n",
       "      <td>150.00</td>\n",
       "      <td>New York City</td>\n",
       "      <td>4</td>\n",
       "    </tr>\n",
       "    <tr>\n",
       "      <th>3</th>\n",
       "      <td>149964</td>\n",
       "      <td>AAA Batteries (4-pack)</td>\n",
       "      <td>1</td>\n",
       "      <td>2.99</td>\n",
       "      <td>2019-01-01 05:53:00</td>\n",
       "      <td>75 Jackson St, Dallas, TX 75001</td>\n",
       "      <td>January</td>\n",
       "      <td>2.99</td>\n",
       "      <td>Dallas</td>\n",
       "      <td>5</td>\n",
       "    </tr>\n",
       "    <tr>\n",
       "      <th>4</th>\n",
       "      <td>149350</td>\n",
       "      <td>USB-C Charging Cable</td>\n",
       "      <td>2</td>\n",
       "      <td>11.95</td>\n",
       "      <td>2019-01-01 06:03:00</td>\n",
       "      <td>943 2nd St, Atlanta, GA 30301</td>\n",
       "      <td>January</td>\n",
       "      <td>23.90</td>\n",
       "      <td>Atlanta</td>\n",
       "      <td>6</td>\n",
       "    </tr>\n",
       "  </tbody>\n",
       "</table>\n",
       "</div>"
      ],
      "text/plain": [
       "  Order ID                   Product  Quantity Ordered  Price Each  \\\n",
       "0   147268          Wired Headphones                 1       11.99   \n",
       "1   148041      USB-C Charging Cable                 1       11.95   \n",
       "2   149343  Apple Airpods Headphones                 1      150.00   \n",
       "3   149964    AAA Batteries (4-pack)                 1        2.99   \n",
       "4   149350      USB-C Charging Cable                 2       11.95   \n",
       "\n",
       "           Order Date                        Purchase Address    Month  \\\n",
       "0 2019-01-01 03:07:00      9 Lake St, New York City, NY 10001  January   \n",
       "1 2019-01-01 03:40:00  760 Church St, San Francisco, CA 94016  January   \n",
       "2 2019-01-01 04:56:00     735 5th St, New York City, NY 10001  January   \n",
       "3 2019-01-01 05:53:00         75 Jackson St, Dallas, TX 75001  January   \n",
       "4 2019-01-01 06:03:00           943 2nd St, Atlanta, GA 30301  January   \n",
       "\n",
       "   Net Sales           City  Hour  \n",
       "0      11.99  New York City     3  \n",
       "1      11.95  San Francisco     3  \n",
       "2     150.00  New York City     4  \n",
       "3       2.99         Dallas     5  \n",
       "4      23.90        Atlanta     6  "
      ]
     },
     "execution_count": 46,
     "metadata": {},
     "output_type": "execute_result"
    }
   ],
   "source": [
    "data.head()"
   ]
  },
  {
   "cell_type": "code",
   "execution_count": 42,
   "id": "40e26119",
   "metadata": {},
   "outputs": [
    {
     "data": {
      "text/plain": [
       "City\n",
       "San Francisco    44662\n",
       "Los Angeles      29564\n",
       "New York City    24847\n",
       "Boston           19901\n",
       "Atlanta          14863\n",
       "Dallas           14797\n",
       "Seattle          14713\n",
       "Portland         12449\n",
       "Austin            9890\n",
       "Name: Net Sales, dtype: int64"
      ]
     },
     "execution_count": 42,
     "metadata": {},
     "output_type": "execute_result"
    }
   ],
   "source": [
    "data.groupby(\"City\")['Net Sales'].count().sort_values(ascending=False)"
   ]
  },
  {
   "cell_type": "code",
   "execution_count": 43,
   "id": "f48ad5bb",
   "metadata": {},
   "outputs": [
    {
     "data": {
      "image/png": "[encoded data removed]",
      "text/plain": [
       "<Figure size 1152x576 with 1 Axes>"
      ]
     },
     "metadata": {
      "needs_background": "light"
     },
     "output_type": "display_data"
    }
   ],
   "source": [
    "# Visualization\n",
    "plt.figure(figsize=(16, 8))\n",
    "data.groupby(\"City\")['Net Sales'].count().sort_values().plot(kind=\"barh\")\n",
    "plt.title(\"No. Sales by City\")\n",
    "plt.show()"
   ]
  },
  {
   "cell_type": "markdown",
   "id": "a60dc2fe",
   "metadata": {},
   "source": [
    "> San Francisco had the highest number of sales, with a total of 44,662 transactions."
   ]
  },
  {
   "cell_type": "markdown",
   "id": "c2d10ff0",
   "metadata": {},
   "source": [
    "#### 3. What time should we display advertisements to maximize likelihood of customer's buying product?"
   ]
  },
  {
   "cell_type": "code",
   "execution_count": 104,
   "id": "2d717ecd",
   "metadata": {},
   "outputs": [
    {
     "data": {
      "text/html": [
       "<div>\n",
       "<style scoped>\n",
       "    .dataframe tbody tr th:only-of-type {\n",
       "        vertical-align: middle;\n",
       "    }\n",
       "\n",
       "    .dataframe tbody tr th {\n",
       "        vertical-align: top;\n",
       "    }\n",
       "\n",
       "    .dataframe thead th {\n",
       "        text-align: right;\n",
       "    }\n",
       "</style>\n",
       "<table border=\"1\" class=\"dataframe\">\n",
       "  <thead>\n",
       "    <tr style=\"text-align: right;\">\n",
       "      <th></th>\n",
       "      <th>Order ID</th>\n",
       "      <th>Product</th>\n",
       "      <th>Quantity Ordered</th>\n",
       "      <th>Price Each</th>\n",
       "      <th>Order Date</th>\n",
       "      <th>Purchase Address</th>\n",
       "      <th>Month</th>\n",
       "      <th>Net Sales</th>\n",
       "      <th>City</th>\n",
       "    </tr>\n",
       "  </thead>\n",
       "  <tbody>\n",
       "    <tr>\n",
       "      <th>0</th>\n",
       "      <td>147268</td>\n",
       "      <td>Wired Headphones</td>\n",
       "      <td>1</td>\n",
       "      <td>11.99</td>\n",
       "      <td>2019-01-01 03:07:00</td>\n",
       "      <td>9 Lake St, New York City, NY 10001</td>\n",
       "      <td>January</td>\n",
       "      <td>11.99</td>\n",
       "      <td>New York City</td>\n",
       "    </tr>\n",
       "    <tr>\n",
       "      <th>1</th>\n",
       "      <td>148041</td>\n",
       "      <td>USB-C Charging Cable</td>\n",
       "      <td>1</td>\n",
       "      <td>11.95</td>\n",
       "      <td>2019-01-01 03:40:00</td>\n",
       "      <td>760 Church St, San Francisco, CA 94016</td>\n",
       "      <td>January</td>\n",
       "      <td>11.95</td>\n",
       "      <td>San Francisco</td>\n",
       "    </tr>\n",
       "    <tr>\n",
       "      <th>2</th>\n",
       "      <td>149343</td>\n",
       "      <td>Apple Airpods Headphones</td>\n",
       "      <td>1</td>\n",
       "      <td>150.00</td>\n",
       "      <td>2019-01-01 04:56:00</td>\n",
       "      <td>735 5th St, New York City, NY 10001</td>\n",
       "      <td>January</td>\n",
       "      <td>150.00</td>\n",
       "      <td>New York City</td>\n",
       "    </tr>\n",
       "    <tr>\n",
       "      <th>3</th>\n",
       "      <td>149964</td>\n",
       "      <td>AAA Batteries (4-pack)</td>\n",
       "      <td>1</td>\n",
       "      <td>2.99</td>\n",
       "      <td>2019-01-01 05:53:00</td>\n",
       "      <td>75 Jackson St, Dallas, TX 75001</td>\n",
       "      <td>January</td>\n",
       "      <td>2.99</td>\n",
       "      <td>Dallas</td>\n",
       "    </tr>\n",
       "    <tr>\n",
       "      <th>4</th>\n",
       "      <td>149350</td>\n",
       "      <td>USB-C Charging Cable</td>\n",
       "      <td>2</td>\n",
       "      <td>11.95</td>\n",
       "      <td>2019-01-01 06:03:00</td>\n",
       "      <td>943 2nd St, Atlanta, GA 30301</td>\n",
       "      <td>January</td>\n",
       "      <td>23.90</td>\n",
       "      <td>Atlanta</td>\n",
       "    </tr>\n",
       "  </tbody>\n",
       "</table>\n",
       "</div>"
      ],
      "text/plain": [
       "  Order ID                   Product  Quantity Ordered  Price Each  \\\n",
       "0   147268          Wired Headphones                 1       11.99   \n",
       "1   148041      USB-C Charging Cable                 1       11.95   \n",
       "2   149343  Apple Airpods Headphones                 1      150.00   \n",
       "3   149964    AAA Batteries (4-pack)                 1        2.99   \n",
       "4   149350      USB-C Charging Cable                 2       11.95   \n",
       "\n",
       "           Order Date                        Purchase Address    Month  \\\n",
       "0 2019-01-01 03:07:00      9 Lake St, New York City, NY 10001  January   \n",
       "1 2019-01-01 03:40:00  760 Church St, San Francisco, CA 94016  January   \n",
       "2 2019-01-01 04:56:00     735 5th St, New York City, NY 10001  January   \n",
       "3 2019-01-01 05:53:00         75 Jackson St, Dallas, TX 75001  January   \n",
       "4 2019-01-01 06:03:00           943 2nd St, Atlanta, GA 30301  January   \n",
       "\n",
       "   Net Sales           City  \n",
       "0      11.99  New York City  \n",
       "1      11.95  San Francisco  \n",
       "2     150.00  New York City  \n",
       "3       2.99         Dallas  \n",
       "4      23.90        Atlanta  "
      ]
     },
     "execution_count": 104,
     "metadata": {},
     "output_type": "execute_result"
    }
   ],
   "source": [
    "data.head()"
   ]
  },
  {
   "cell_type": "markdown",
   "id": "c9fe5ae0",
   "metadata": {},
   "source": [
    "Add hour columns"
   ]
  },
  {
   "cell_type": "code",
   "execution_count": 44,
   "id": "80bb3b38",
   "metadata": {},
   "outputs": [],
   "source": [
    "data[\"Hour\"] = data[\"Order Date\"].dt.hour"
   ]
  },
  {
   "cell_type": "code",
   "execution_count": 107,
   "id": "08198eee",
   "metadata": {},
   "outputs": [
    {
     "data": {
      "text/html": [
       "<div>\n",
       "<style scoped>\n",
       "    .dataframe tbody tr th:only-of-type {\n",
       "        vertical-align: middle;\n",
       "    }\n",
       "\n",
       "    .dataframe tbody tr th {\n",
       "        vertical-align: top;\n",
       "    }\n",
       "\n",
       "    .dataframe thead th {\n",
       "        text-align: right;\n",
       "    }\n",
       "</style>\n",
       "<table border=\"1\" class=\"dataframe\">\n",
       "  <thead>\n",
       "    <tr style=\"text-align: right;\">\n",
       "      <th></th>\n",
       "      <th>Order ID</th>\n",
       "      <th>Product</th>\n",
       "      <th>Quantity Ordered</th>\n",
       "      <th>Price Each</th>\n",
       "      <th>Order Date</th>\n",
       "      <th>Purchase Address</th>\n",
       "      <th>Month</th>\n",
       "      <th>Net Sales</th>\n",
       "      <th>City</th>\n",
       "      <th>Hour</th>\n",
       "    </tr>\n",
       "  </thead>\n",
       "  <tbody>\n",
       "    <tr>\n",
       "      <th>0</th>\n",
       "      <td>147268</td>\n",
       "      <td>Wired Headphones</td>\n",
       "      <td>1</td>\n",
       "      <td>11.99</td>\n",
       "      <td>2019-01-01 03:07:00</td>\n",
       "      <td>9 Lake St, New York City, NY 10001</td>\n",
       "      <td>January</td>\n",
       "      <td>11.99</td>\n",
       "      <td>New York City</td>\n",
       "      <td>3</td>\n",
       "    </tr>\n",
       "    <tr>\n",
       "      <th>1</th>\n",
       "      <td>148041</td>\n",
       "      <td>USB-C Charging Cable</td>\n",
       "      <td>1</td>\n",
       "      <td>11.95</td>\n",
       "      <td>2019-01-01 03:40:00</td>\n",
       "      <td>760 Church St, San Francisco, CA 94016</td>\n",
       "      <td>January</td>\n",
       "      <td>11.95</td>\n",
       "      <td>San Francisco</td>\n",
       "      <td>3</td>\n",
       "    </tr>\n",
       "    <tr>\n",
       "      <th>2</th>\n",
       "      <td>149343</td>\n",
       "      <td>Apple Airpods Headphones</td>\n",
       "      <td>1</td>\n",
       "      <td>150.00</td>\n",
       "      <td>2019-01-01 04:56:00</td>\n",
       "      <td>735 5th St, New York City, NY 10001</td>\n",
       "      <td>January</td>\n",
       "      <td>150.00</td>\n",
       "      <td>New York City</td>\n",
       "      <td>4</td>\n",
       "    </tr>\n",
       "    <tr>\n",
       "      <th>3</th>\n",
       "      <td>149964</td>\n",
       "      <td>AAA Batteries (4-pack)</td>\n",
       "      <td>1</td>\n",
       "      <td>2.99</td>\n",
       "      <td>2019-01-01 05:53:00</td>\n",
       "      <td>75 Jackson St, Dallas, TX 75001</td>\n",
       "      <td>January</td>\n",
       "      <td>2.99</td>\n",
       "      <td>Dallas</td>\n",
       "      <td>5</td>\n",
       "    </tr>\n",
       "    <tr>\n",
       "      <th>4</th>\n",
       "      <td>149350</td>\n",
       "      <td>USB-C Charging Cable</td>\n",
       "      <td>2</td>\n",
       "      <td>11.95</td>\n",
       "      <td>2019-01-01 06:03:00</td>\n",
       "      <td>943 2nd St, Atlanta, GA 30301</td>\n",
       "      <td>January</td>\n",
       "      <td>23.90</td>\n",
       "      <td>Atlanta</td>\n",
       "      <td>6</td>\n",
       "    </tr>\n",
       "  </tbody>\n",
       "</table>\n",
       "</div>"
      ],
      "text/plain": [
       "  Order ID                   Product  Quantity Ordered  Price Each  \\\n",
       "0   147268          Wired Headphones                 1       11.99   \n",
       "1   148041      USB-C Charging Cable                 1       11.95   \n",
       "2   149343  Apple Airpods Headphones                 1      150.00   \n",
       "3   149964    AAA Batteries (4-pack)                 1        2.99   \n",
       "4   149350      USB-C Charging Cable                 2       11.95   \n",
       "\n",
       "           Order Date                        Purchase Address    Month  \\\n",
       "0 2019-01-01 03:07:00      9 Lake St, New York City, NY 10001  January   \n",
       "1 2019-01-01 03:40:00  760 Church St, San Francisco, CA 94016  January   \n",
       "2 2019-01-01 04:56:00     735 5th St, New York City, NY 10001  January   \n",
       "3 2019-01-01 05:53:00         75 Jackson St, Dallas, TX 75001  January   \n",
       "4 2019-01-01 06:03:00           943 2nd St, Atlanta, GA 30301  January   \n",
       "\n",
       "   Net Sales           City  Hour  \n",
       "0      11.99  New York City     3  \n",
       "1      11.95  San Francisco     3  \n",
       "2     150.00  New York City     4  \n",
       "3       2.99         Dallas     5  \n",
       "4      23.90        Atlanta     6  "
      ]
     },
     "execution_count": 107,
     "metadata": {},
     "output_type": "execute_result"
    }
   ],
   "source": [
    "data.head()"
   ]
  },
  {
   "cell_type": "code",
   "execution_count": 45,
   "id": "14a4956e",
   "metadata": {},
   "outputs": [
    {
     "data": {
      "image/png": "[encoded data removed]",
      "text/plain": [
       "<Figure size 1152x576 with 1 Axes>"
      ]
     },
     "metadata": {
      "needs_background": "light"
     },
     "output_type": "display_data"
    }
   ],
   "source": [
    "hours = [ _ for _ in range(1,24)]\n",
    "\n",
    "plt.figure(figsize=(16, 8))\n",
    "data.groupby(\"Hour\")[\"Order ID\"].count().plot()\n",
    "plt.xticks(hours)\n",
    "plt.xlabel(\"Hour\")\n",
    "plt.grid()"
   ]
  },
  {
   "cell_type": "markdown",
   "id": "599698f6",
   "metadata": {},
   "source": [
    "> This plot shows that the peak of purchases occurs between 11 AM and 1 PM, and then between 6 PM and 8 PM. It would be wise to run advertisements during these time slots to maximise sales."
   ]
  },
  {
   "cell_type": "markdown",
   "id": "3b563250",
   "metadata": {},
   "source": [
    "#### 4. What products are most often sold together ?"
   ]
  },
  {
   "cell_type": "markdown",
   "id": "c0360fee",
   "metadata": {},
   "source": [
    "Let's find all duplicates \"Order Id\" in the dataset. This means that two different products sold together."
   ]
  },
  {
   "cell_type": "code",
   "execution_count": 49,
   "id": "698dd2aa",
   "metadata": {},
   "outputs": [],
   "source": [
    "data1 = data[data['Order ID'].duplicated(keep = False)]"
   ]
  },
  {
   "cell_type": "code",
   "execution_count": 50,
   "id": "30107639",
   "metadata": {},
   "outputs": [
    {
     "data": {
      "text/html": [
       "<div>\n",
       "<style scoped>\n",
       "    .dataframe tbody tr th:only-of-type {\n",
       "        vertical-align: middle;\n",
       "    }\n",
       "\n",
       "    .dataframe tbody tr th {\n",
       "        vertical-align: top;\n",
       "    }\n",
       "\n",
       "    .dataframe thead th {\n",
       "        text-align: right;\n",
       "    }\n",
       "</style>\n",
       "<table border=\"1\" class=\"dataframe\">\n",
       "  <thead>\n",
       "    <tr style=\"text-align: right;\">\n",
       "      <th></th>\n",
       "      <th>Order ID</th>\n",
       "      <th>Product</th>\n",
       "      <th>Quantity Ordered</th>\n",
       "      <th>Price Each</th>\n",
       "      <th>Order Date</th>\n",
       "      <th>Purchase Address</th>\n",
       "      <th>Month</th>\n",
       "      <th>Net Sales</th>\n",
       "      <th>City</th>\n",
       "      <th>Hour</th>\n",
       "    </tr>\n",
       "  </thead>\n",
       "  <tbody>\n",
       "    <tr>\n",
       "      <th>11</th>\n",
       "      <td>144804</td>\n",
       "      <td>iPhone</td>\n",
       "      <td>1</td>\n",
       "      <td>700.00</td>\n",
       "      <td>2019-01-01 07:29:00</td>\n",
       "      <td>628 Lake St, New York City, NY 10001</td>\n",
       "      <td>January</td>\n",
       "      <td>700.00</td>\n",
       "      <td>New York City</td>\n",
       "      <td>7</td>\n",
       "    </tr>\n",
       "    <tr>\n",
       "      <th>12</th>\n",
       "      <td>144804</td>\n",
       "      <td>Wired Headphones</td>\n",
       "      <td>1</td>\n",
       "      <td>11.99</td>\n",
       "      <td>2019-01-01 07:29:00</td>\n",
       "      <td>628 Lake St, New York City, NY 10001</td>\n",
       "      <td>January</td>\n",
       "      <td>11.99</td>\n",
       "      <td>New York City</td>\n",
       "      <td>7</td>\n",
       "    </tr>\n",
       "    <tr>\n",
       "      <th>65</th>\n",
       "      <td>148074</td>\n",
       "      <td>USB-C Charging Cable</td>\n",
       "      <td>1</td>\n",
       "      <td>11.95</td>\n",
       "      <td>2019-01-01 11:25:00</td>\n",
       "      <td>6 Johnson St, Atlanta, GA 30301</td>\n",
       "      <td>January</td>\n",
       "      <td>11.95</td>\n",
       "      <td>Atlanta</td>\n",
       "      <td>11</td>\n",
       "    </tr>\n",
       "    <tr>\n",
       "      <th>66</th>\n",
       "      <td>148074</td>\n",
       "      <td>Google Phone</td>\n",
       "      <td>1</td>\n",
       "      <td>600.00</td>\n",
       "      <td>2019-01-01 11:25:00</td>\n",
       "      <td>6 Johnson St, Atlanta, GA 30301</td>\n",
       "      <td>January</td>\n",
       "      <td>600.00</td>\n",
       "      <td>Atlanta</td>\n",
       "      <td>11</td>\n",
       "    </tr>\n",
       "    <tr>\n",
       "      <th>79</th>\n",
       "      <td>148450</td>\n",
       "      <td>iPhone</td>\n",
       "      <td>1</td>\n",
       "      <td>700.00</td>\n",
       "      <td>2019-01-01 12:02:00</td>\n",
       "      <td>761 Lakeview St, Dallas, TX 75001</td>\n",
       "      <td>January</td>\n",
       "      <td>700.00</td>\n",
       "      <td>Dallas</td>\n",
       "      <td>12</td>\n",
       "    </tr>\n",
       "  </tbody>\n",
       "</table>\n",
       "</div>"
      ],
      "text/plain": [
       "   Order ID               Product  Quantity Ordered  Price Each  \\\n",
       "11   144804                iPhone                 1      700.00   \n",
       "12   144804      Wired Headphones                 1       11.99   \n",
       "65   148074  USB-C Charging Cable                 1       11.95   \n",
       "66   148074          Google Phone                 1      600.00   \n",
       "79   148450                iPhone                 1      700.00   \n",
       "\n",
       "            Order Date                      Purchase Address    Month  \\\n",
       "11 2019-01-01 07:29:00  628 Lake St, New York City, NY 10001  January   \n",
       "12 2019-01-01 07:29:00  628 Lake St, New York City, NY 10001  January   \n",
       "65 2019-01-01 11:25:00       6 Johnson St, Atlanta, GA 30301  January   \n",
       "66 2019-01-01 11:25:00       6 Johnson St, Atlanta, GA 30301  January   \n",
       "79 2019-01-01 12:02:00     761 Lakeview St, Dallas, TX 75001  January   \n",
       "\n",
       "    Net Sales           City  Hour  \n",
       "11     700.00  New York City     7  \n",
       "12      11.99  New York City     7  \n",
       "65      11.95        Atlanta    11  \n",
       "66     600.00        Atlanta    11  \n",
       "79     700.00         Dallas    12  "
      ]
     },
     "execution_count": 50,
     "metadata": {},
     "output_type": "execute_result"
    }
   ],
   "source": [
    "data1.head()"
   ]
  },
  {
   "cell_type": "markdown",
   "id": "1d87d49a",
   "metadata": {},
   "source": [
    "Let's create a new colummn that contains products with same 'Order ID'"
   ]
  },
  {
   "cell_type": "code",
   "execution_count": 55,
   "id": "012b6c66",
   "metadata": {},
   "outputs": [],
   "source": [
    "data1['Grouped Products'] = data1.groupby('Order ID')['Product'].transform(lambda x: ', '.join(x))"
   ]
  },
  {
   "cell_type": "code",
   "execution_count": 56,
   "id": "e078e1ba",
   "metadata": {},
   "outputs": [
    {
     "data": {
      "text/html": [
       "<div>\n",
       "<style scoped>\n",
       "    .dataframe tbody tr th:only-of-type {\n",
       "        vertical-align: middle;\n",
       "    }\n",
       "\n",
       "    .dataframe tbody tr th {\n",
       "        vertical-align: top;\n",
       "    }\n",
       "\n",
       "    .dataframe thead th {\n",
       "        text-align: right;\n",
       "    }\n",
       "</style>\n",
       "<table border=\"1\" class=\"dataframe\">\n",
       "  <thead>\n",
       "    <tr style=\"text-align: right;\">\n",
       "      <th></th>\n",
       "      <th>Order ID</th>\n",
       "      <th>Product</th>\n",
       "      <th>Quantity Ordered</th>\n",
       "      <th>Price Each</th>\n",
       "      <th>Order Date</th>\n",
       "      <th>Purchase Address</th>\n",
       "      <th>Month</th>\n",
       "      <th>Net Sales</th>\n",
       "      <th>City</th>\n",
       "      <th>Hour</th>\n",
       "      <th>Grouped Products</th>\n",
       "    </tr>\n",
       "  </thead>\n",
       "  <tbody>\n",
       "    <tr>\n",
       "      <th>11</th>\n",
       "      <td>144804</td>\n",
       "      <td>iPhone</td>\n",
       "      <td>1</td>\n",
       "      <td>700.00</td>\n",
       "      <td>2019-01-01 07:29:00</td>\n",
       "      <td>628 Lake St, New York City, NY 10001</td>\n",
       "      <td>January</td>\n",
       "      <td>700.00</td>\n",
       "      <td>New York City</td>\n",
       "      <td>7</td>\n",
       "      <td>iPhone, Wired Headphones</td>\n",
       "    </tr>\n",
       "    <tr>\n",
       "      <th>12</th>\n",
       "      <td>144804</td>\n",
       "      <td>Wired Headphones</td>\n",
       "      <td>1</td>\n",
       "      <td>11.99</td>\n",
       "      <td>2019-01-01 07:29:00</td>\n",
       "      <td>628 Lake St, New York City, NY 10001</td>\n",
       "      <td>January</td>\n",
       "      <td>11.99</td>\n",
       "      <td>New York City</td>\n",
       "      <td>7</td>\n",
       "      <td>iPhone, Wired Headphones</td>\n",
       "    </tr>\n",
       "    <tr>\n",
       "      <th>65</th>\n",
       "      <td>148074</td>\n",
       "      <td>USB-C Charging Cable</td>\n",
       "      <td>1</td>\n",
       "      <td>11.95</td>\n",
       "      <td>2019-01-01 11:25:00</td>\n",
       "      <td>6 Johnson St, Atlanta, GA 30301</td>\n",
       "      <td>January</td>\n",
       "      <td>11.95</td>\n",
       "      <td>Atlanta</td>\n",
       "      <td>11</td>\n",
       "      <td>USB-C Charging Cable, Google Phone</td>\n",
       "    </tr>\n",
       "    <tr>\n",
       "      <th>66</th>\n",
       "      <td>148074</td>\n",
       "      <td>Google Phone</td>\n",
       "      <td>1</td>\n",
       "      <td>600.00</td>\n",
       "      <td>2019-01-01 11:25:00</td>\n",
       "      <td>6 Johnson St, Atlanta, GA 30301</td>\n",
       "      <td>January</td>\n",
       "      <td>600.00</td>\n",
       "      <td>Atlanta</td>\n",
       "      <td>11</td>\n",
       "      <td>USB-C Charging Cable, Google Phone</td>\n",
       "    </tr>\n",
       "    <tr>\n",
       "      <th>79</th>\n",
       "      <td>148450</td>\n",
       "      <td>iPhone</td>\n",
       "      <td>1</td>\n",
       "      <td>700.00</td>\n",
       "      <td>2019-01-01 12:02:00</td>\n",
       "      <td>761 Lakeview St, Dallas, TX 75001</td>\n",
       "      <td>January</td>\n",
       "      <td>700.00</td>\n",
       "      <td>Dallas</td>\n",
       "      <td>12</td>\n",
       "      <td>iPhone, Lightning Charging Cable</td>\n",
       "    </tr>\n",
       "  </tbody>\n",
       "</table>\n",
       "</div>"
      ],
      "text/plain": [
       "   Order ID               Product  Quantity Ordered  Price Each  \\\n",
       "11   144804                iPhone                 1      700.00   \n",
       "12   144804      Wired Headphones                 1       11.99   \n",
       "65   148074  USB-C Charging Cable                 1       11.95   \n",
       "66   148074          Google Phone                 1      600.00   \n",
       "79   148450                iPhone                 1      700.00   \n",
       "\n",
       "            Order Date                      Purchase Address    Month  \\\n",
       "11 2019-01-01 07:29:00  628 Lake St, New York City, NY 10001  January   \n",
       "12 2019-01-01 07:29:00  628 Lake St, New York City, NY 10001  January   \n",
       "65 2019-01-01 11:25:00       6 Johnson St, Atlanta, GA 30301  January   \n",
       "66 2019-01-01 11:25:00       6 Johnson St, Atlanta, GA 30301  January   \n",
       "79 2019-01-01 12:02:00     761 Lakeview St, Dallas, TX 75001  January   \n",
       "\n",
       "    Net Sales           City  Hour                    Grouped Products  \n",
       "11     700.00  New York City     7            iPhone, Wired Headphones  \n",
       "12      11.99  New York City     7            iPhone, Wired Headphones  \n",
       "65      11.95        Atlanta    11  USB-C Charging Cable, Google Phone  \n",
       "66     600.00        Atlanta    11  USB-C Charging Cable, Google Phone  \n",
       "79     700.00         Dallas    12    iPhone, Lightning Charging Cable  "
      ]
     },
     "execution_count": 56,
     "metadata": {},
     "output_type": "execute_result"
    }
   ],
   "source": [
    "data1.head()"
   ]
  },
  {
   "cell_type": "code",
   "execution_count": 60,
   "id": "2f17d0cb",
   "metadata": {},
   "outputs": [
    {
     "data": {
      "text/html": [
       "<div>\n",
       "<style scoped>\n",
       "    .dataframe tbody tr th:only-of-type {\n",
       "        vertical-align: middle;\n",
       "    }\n",
       "\n",
       "    .dataframe tbody tr th {\n",
       "        vertical-align: top;\n",
       "    }\n",
       "\n",
       "    .dataframe thead th {\n",
       "        text-align: right;\n",
       "    }\n",
       "</style>\n",
       "<table border=\"1\" class=\"dataframe\">\n",
       "  <thead>\n",
       "    <tr style=\"text-align: right;\">\n",
       "      <th></th>\n",
       "      <th>Order ID</th>\n",
       "      <th>Grouped Products</th>\n",
       "    </tr>\n",
       "  </thead>\n",
       "  <tbody>\n",
       "    <tr>\n",
       "      <th>11</th>\n",
       "      <td>144804</td>\n",
       "      <td>iPhone, Wired Headphones</td>\n",
       "    </tr>\n",
       "    <tr>\n",
       "      <th>65</th>\n",
       "      <td>148074</td>\n",
       "      <td>USB-C Charging Cable, Google Phone</td>\n",
       "    </tr>\n",
       "    <tr>\n",
       "      <th>79</th>\n",
       "      <td>148450</td>\n",
       "      <td>iPhone, Lightning Charging Cable</td>\n",
       "    </tr>\n",
       "    <tr>\n",
       "      <th>92</th>\n",
       "      <td>144679</td>\n",
       "      <td>USB-C Charging Cable, Google Phone</td>\n",
       "    </tr>\n",
       "    <tr>\n",
       "      <th>94</th>\n",
       "      <td>147451</td>\n",
       "      <td>Google Phone, Wired Headphones</td>\n",
       "    </tr>\n",
       "  </tbody>\n",
       "</table>\n",
       "</div>"
      ],
      "text/plain": [
       "   Order ID                    Grouped Products\n",
       "11   144804            iPhone, Wired Headphones\n",
       "65   148074  USB-C Charging Cable, Google Phone\n",
       "79   148450    iPhone, Lightning Charging Cable\n",
       "92   144679  USB-C Charging Cable, Google Phone\n",
       "94   147451      Google Phone, Wired Headphones"
      ]
     },
     "execution_count": 60,
     "metadata": {},
     "output_type": "execute_result"
    }
   ],
   "source": [
    "# Find all grouped products\n",
    "grouped_products = data1[['Order ID', 'Grouped Products']].drop_duplicates()\n",
    "grouped_products.head()"
   ]
  },
  {
   "cell_type": "code",
   "execution_count": 62,
   "id": "de4f9028",
   "metadata": {},
   "outputs": [
    {
     "data": {
      "text/plain": [
       "[(('iPhone', ' Lightning Charging Cable'), 495),\n",
       " (('Google Phone', ' USB-C Charging Cable'), 478),\n",
       " (('Lightning Charging Cable', ' iPhone'), 477),\n",
       " (('USB-C Charging Cable', ' Google Phone'), 468),\n",
       " (('Wired Headphones', ' iPhone'), 218),\n",
       " (('iPhone', ' Wired Headphones'), 217),\n",
       " (('Wired Headphones', ' Google Phone'), 209),\n",
       " (('Vareebadd Phone', ' USB-C Charging Cable'), 189),\n",
       " (('iPhone', ' Apple Airpods Headphones'), 183),\n",
       " (('Google Phone', ' Wired Headphones'), 180)]"
      ]
     },
     "execution_count": 62,
     "metadata": {},
     "output_type": "execute_result"
    }
   ],
   "source": [
    "# Count the combinations of 2 products sold together\n",
    "from itertools import combinations\n",
    "from collections import Counter\n",
    "\n",
    "count = Counter()\n",
    "\n",
    "for row in grouped_products['Grouped Products']:\n",
    "    products_list = row.split(',')\n",
    "    \n",
    "    # Take the 2 most common products sold together\n",
    "    count.update(Counter(combinations(products_list, 2))) \n",
    "\n",
    "count.most_common(10)"
   ]
  },
  {
   "cell_type": "markdown",
   "id": "02dec002",
   "metadata": {},
   "source": [
    "> iPhone and Lightning Charging Cable is most often sold together."
   ]
  },
  {
   "cell_type": "code",
   "execution_count": null,
   "id": "1c8beb53",
   "metadata": {},
   "outputs": [],
   "source": []
  }
 ],
 "metadata": {
  "kernelspec": {
   "display_name": "Python 3 (ipykernel)",
   "language": "python",
   "name": "python3"
  },
  "language_info": {
   "codemirror_mode": {
    "name": "ipython",
    "version": 3
   },
   "file_extension": ".py",
   "mimetype": "text/x-python",
   "name": "python",
   "nbconvert_exporter": "python",
   "pygments_lexer": "ipython3",
   "version": "3.9.7"
  }
 },
 "nbformat": 4,
 "nbformat_minor": 5
}
